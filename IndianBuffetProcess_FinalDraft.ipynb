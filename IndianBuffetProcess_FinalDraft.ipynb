{
 "cells": [
  {
   "cell_type": "code",
   "execution_count": 1,
   "metadata": {
    "collapsed": true
   },
   "outputs": [],
   "source": [
    "#Uploading required packages\n",
    "import numpy as np\n",
    "from scipy.stats import gamma\n",
    "from scipy.stats import uniform as unif\n",
    "from scipy.stats import multivariate_normal as mvtnorm\n",
    "from scipy.stats import bernoulli\n",
    "from numba import jit\n",
    "import matplotlib.pyplot as plt\n",
    "%matplotlib inline"
   ]
  },
  {
   "cell_type": "markdown",
   "metadata": {},
   "source": [
    "# <center> STA 663 Final Project <center>\n",
    "## <center>  The Indian Buffet Process and its applications <center> \n",
    "### <center> Sunith R. Suresh & Drew Jordan <center> "
   ]
  },
  {
   "cell_type": "markdown",
   "metadata": {},
   "source": [
    "### 1. Introduction\n",
    "\n",
    "In un-supervised learning, the goal is to determine latent (hidden) from unlabeled data groups. In other words, we would like to group the data into categories, such that the categories are learned from the data itself. One way is to use a standard clustering algorithm like k-means or Gaussian mixture modeling. The problem is that both these methods assume a fixed number of groups that are determined by the user. Unfortunately, most real world data do not have a fixed number of groups. Non-parametric Bayesian methods allow us to model such data by allowing the number of groups to grow with the addition of more data. One such non-parametric method is the Chinese Restaurant Process, where we allocate a data point to a group with some probability while also allowing a data point to form a new group. The Indian Buffet Process is an extension of the Chinese Restaurant Process in which we allow data points to belong to multiple groups. For the purpose of this paper, we shall implement the algorithm described in the paper “Infinite Latent Feature Models and the Indian Buffet Process” by Griffiths and Ghahramani (2005). We will simulate an image dataset similar to that used in Griffiths and Ghahramani (2005) to test our code. Once we implement the algorithm, we shall attempt to optimize it in regards to computational efficiency. \n",
    "\n",
    "### 2. The Indian Buffet Process\n",
    "\n",
    "The Indian buffet process (IBP) is a stochastic process for defining the probability distribution over equivalence classes of sparse binary matrices with a finite number of rows and an unbounded number of columns. \n",
    "\n",
    "The IBP is best described with the help of a culinary metaphor. Customers (observations) sequentially arrive at an Indian buffet with a infinite number of dishes (features). The first customer samples $Possion(\\alpha)$ dishes. The $i^{th}$ customer arrives and samples the already sampled dishes with a probability proportional to the popularity of that dish prior to his arrival (i.e, proportional to $\\frac{n_{-i,k}}{i}$, where $n_{i,k}$ is the number of customer who sampled dish $k$ prior to the arrival of the $i^{th}$ customer). After the customer samples the already sampled dishes, he process to further sample another $Poisson(\\frac{\\alpha}{i})$ number of new dishes. This process continues till all $N$ customers have visited the buffet (Yildrim, 2012).\n",
    "\n",
    "The outcome of the Indian Buffet Process can be represented by a binary matrix $Z$ where the rows (denoted by $i$) are customers(observations) and the columns(denoted by k) are dishes(features). If the value in a particular row and columns is 1, it denotes that observation $i$ possesses feature $k$. \n",
    "\n",
    "For better intuition over the $\\alpha$ parameter, below are three matrices generated from IBP for varying values of $\\alpha ={2, 4, 6}$ with number of observation set to 10. "
   ]
  },
  {
   "cell_type": "code",
   "execution_count": 2,
   "metadata": {
    "collapsed": true
   },
   "outputs": [],
   "source": [
    "# Indian Buffet Process Function\n",
    "\n",
    "def sampleIBP(alpha, num_objects):  \n",
    "    # Initializing storage for results\n",
    "    result = np.zeros([num_objects, 1000])\n",
    "    # Draw from the prior for alpha\n",
    "    t = np.random.poisson(alpha)\n",
    "    # Filling in first row of result matrix\n",
    "    result[0, 0:t] = np.ones(t) #changed form np.ones([1, t])\n",
    "    # Initializing K+\n",
    "    K_plus = t\n",
    "    \n",
    "    for i in range(1, num_objects):\n",
    "        for j in range(0, K_plus):\n",
    "            p = np.array([np.log(np.sum(result[0:i,j])) - np.log(i+1), \n",
    "                          np.log(i+1 - np.sum(result[0:i, j])) - np.log(i+1)])\n",
    "            p = np.exp(p - max(p))\n",
    "\n",
    "            if(np.random.uniform() < p[0]/np.sum(p)):\n",
    "                result[i, j] = 1\n",
    "            else:\n",
    "                result[i, j] = 0\n",
    "        t = np.random.poisson(alpha/(i+1))\n",
    "        x = K_plus + 1\n",
    "        y = K_plus + t\n",
    "        result[i, (x-1):y] = np.ones(t) #changed form np.ones([1, t])\n",
    "        K_plus = K_plus+t\n",
    "    result = result[:, 0:K_plus]\n",
    "    \n",
    "    return list([result, K_plus])"
   ]
  },
  {
   "cell_type": "code",
   "execution_count": 3,
   "metadata": {
    "collapsed": false
   },
   "outputs": [
    {
     "data": {
      "image/png": "[encoded data removed]",
      "text/plain": [
       "<matplotlib.figure.Figure at 0x10be306a0>"
      ]
     },
     "metadata": {},
     "output_type": "display_data"
    }
   ],
   "source": [
    "np.random.seed(1234)\n",
    "[Z_alpha2,K1] = sampleIBP(2, 10)\n",
    "[Z_alpha3,K3] = sampleIBP(4, 10)\n",
    "[Z_alpha5,K5] = sampleIBP(6, 10)\n",
    "\n",
    "\n",
    "fig = plt.figure()\n",
    "a=fig.add_subplot(2,2,1)\n",
    "plt.imshow(Z_alpha2,cmap=plt.get_cmap('gray'),  interpolation='nearest')\n",
    "a=fig.add_subplot(2,2,2)\n",
    "plt.imshow(Z_alpha3,cmap=plt.get_cmap('gray'),  interpolation='nearest')\n",
    "a=fig.add_subplot(2,2,3)\n",
    "plt.imshow(Z_alpha5,cmap=plt.get_cmap('gray'),  interpolation='nearest')\n",
    "plt.show()"
   ]
  },
  {
   "cell_type": "markdown",
   "metadata": {},
   "source": [
    "Above we have three images for the binary matrix Z generated form the Indian Buffet Process for $\\alpha ={2, 4, 6}$. In the above images, a white pixel represents a value of 1 while a black pixel represents a value of 0. $\\alpha$ can be viewed as a concentration parameter. For equal number of observation, $\\alpha$ influence how likely it is that multiple observations share the same feature.\n",
    "\n",
    "Two aspects of the Indian Buffet make it suitable for latent feature modeling (Yildrim, 2012)\n",
    "\n",
    "1. It defines a probability distribution over rich combinatoric structures (We can interpret binary matrices are feature ownership tables, adjacency matrices etc)\n",
    "\n",
    "2. A priori, IBP has support over binary matrices with any number of columns. Upon observing data, IBP concentrates its mass over a subset of binary matrices with finitely many columns via probabilitic inferences. Therefore IBP, allows binary matrices to grow and shrink with more data.\n",
    "\n",
    "The IBP does assumes that latent features are binary, so an observation either does or does not possess a feature. Also it assumes that latent features are statistically independent, so knowledge that an observation possess a certain feature does not provide information about whether it possesses other features (Yildrim, 2012)\n",
    "\n",
    "Formally, the probability of a binary matrix, $Z \\sim IBP(\\alpha)$ is given by\n",
    "\n",
    "\n",
    "$$P(Z| \\alpha) = \\frac{\\alpha^{K}}{\\prod_{h=1}^{2^N - 1} K_{h}!} exp \\{ - \\alpha H_{N}\\} \\prod_{k=1}^{K} \\frac{(N- m_k)! (m_k - 1)!}{N!}$$\n",
    "\n",
    "$N$ - Number of objects\n",
    "\n",
    "$K$ - Number of features\n",
    "\n",
    "$K_h$ - Number of features with history h \n",
    "\n",
    "$H_N$ - $N^{th}$ Harmonic number\n",
    "\n",
    "$m_k$ - Number of objects with feature k\n",
    "\n",
    "$\\alpha$ - parameter influecing the Indian Buffet Process\n",
    "\n",
    "A detailed derivation of the equation can be found in Griffiths & Ghahramani, 2005.\n",
    "\n",
    "\n",
    "The conditional distribution can be given by\n",
    "\n",
    "$$ P( z_{i,k} = 1 \\mid z_{-i,k}) = \\frac{n_{-i, k}}{N}$$"
   ]
  },
  {
   "cell_type": "markdown",
   "metadata": {},
   "source": [
    "### 3. Application of the Indian Buffet Process for Unsupervised Latent Feature Learning\n",
    "\n",
    "### 3.1 Linear Gaussian Model\n",
    "\n",
    "We shall demonstrate the application of the IBP, by using it a prior for unsupervised latent feature learning. We shall consider a simple linear-Gaussian model described by Griffiths & Ghahramani (Griffiths & Ghahramani, 2005).\n",
    "\n",
    "Let $Z$ be a binary feature ownership matrix, where $z_{i,k}=1$ indicating that object $i$ posssess feature $k$\n",
    "\n",
    "Lets assume $Z \\sim IBP(\\alpha)$\n",
    "\n",
    "Let X be real-valued observation, where $x_{i,j}$ is the value of feature $j$ for object $i$. $X$ is a ${N x D}$ matrixs.\n",
    "\n",
    "Let $z_i$ be features values for object $i$ and let $x_i$ be the observed values for object $i$.  Using a linear gaussian model\n",
    "\n",
    "$$x_i \\sim N(z_i W, \\sigma_x^2 I) $$\n",
    "\n",
    "where $W$ is weight matrix is a $\\textit{K x D}$ matrix of weights representing the $\\textit{K}$ latent features,\n",
    "\n",
    "$$W \\sim N(0, \\sigma_w^2 I)$$\n",
    "\n",
    "The likelihood is given by\n",
    "\n",
    "$$p( X \\mid Z, W, \\sigma_x^2) = \\frac{1}{(2 \\pi \\sigma_x^2)^{\\frac{N D}{2}}} exp\\{ -\\frac{1}{2 \\sigma_x^2} tr((X-ZW)^{T} (X-ZW)^{T}))\\} $$\n",
    "\n",
    "\n",
    "Marginalizing out $W$\n",
    "\n",
    "$$P(X|Z,\\sigma_X, \\sigma_A) = \\frac{1}{(2 \\pi)^{ND/2} (\\sigma_X)^{(N-K)D}(\\sigma_A)^{KD}(|Z^TZ+\\frac{\\sigma_X^2}{\\sigma_A^2}I|)^{D/2}} exp\\{-\\frac{1}{2\\sigma_X^2}tr(X^T(I-Z M Z^T)X)\\}$$\n",
    "\n",
    "where $$ M = (Z^TZ+\\frac{\\sigma_X^2}{\\sigma_A^2}I)^{-1}$$"
   ]
  },
  {
   "cell_type": "markdown",
   "metadata": {},
   "source": [
    "### 3.2 Inference with MCMC Sampling Methods  \n",
    "\n",
    "Exact inference is intractable and instead, we can get approximate inference using Monte Carlo Markov Chain (MCMC) sampling methods. The MCMC method we use is proposed by Griffiths and Ghahramani (Griffiths and Ghahramani, 2005)\n",
    "\n",
    "#### Parameters of Interest\n",
    "\n",
    "We have five parameters of interest in our model that we need to update throughout our MCMC process.\n",
    "\n",
    "1.) Z: feature ownernship matrix\n",
    "\n",
    "2.) $K_+$: number of new latent features\n",
    "\n",
    "3.) $\\alpha$ parameter controlling  $K_+$\n",
    "\n",
    "4.) $\\sigma_x$\n",
    "\n",
    "5.) $\\sigma_A$\n",
    "\n",
    "We are able to find known full conditional distributions for Z, $K_+$, and $\\alpha$, so we will update them using Gibbs Sampling. We will update $\\sigma_X$ and $\\sigma_A$ using random-walk Metropolis-Hastings.\n",
    "\n",
    "#### Prior Distributions\n",
    "\n",
    "The priors we used are\n",
    "\n",
    "$$P(z_{ik} = 1 | \\textbf{z}_{-i,k}) = \\dfrac{n_{-i,k}}{N} $$\n",
    "\n",
    "$$\\alpha \\sim Gamma(1,1)$$\n",
    "\n",
    "$$K_+ \\sim Poisson(\\dfrac{\\alpha}{N})$$\n",
    "\n",
    "\n",
    "#### Gibbs Sampling Updates\n",
    "\n",
    "For observation $i$ with more than one feature, we can sample $z_{i,k}$ using the full conditional distribution.\n",
    "\n",
    "$$P(z_{ik}|X,Z_{-(i,k),},\\sigma_X,\\sigma_A) \\propto  P(X|Z,\\sigma_X, \\sigma_A) * P(z_{ik}=1|\\textbf{z}_{-i,k})$$\n",
    "\n",
    "Sample new features for observation $i$ by first computing a truncated distribution for $K_+$ using the data likelihood and the  prior for $K_+$ up to 4 new features, and then sampling from the truncated distribution. \n",
    "\n",
    "Sample $P(\\alpha \\mid Z) \\sim Gamma(1 + K_+, 1 + \\sum_{i=1}^{N} H_i)$\n",
    "\n",
    "#### Metropolis-Hasting Updates\n",
    "\n",
    "To update $\\sigma_X$ and $\\sigma_A$, we use random walk Metropolis-Hastings steps. For $\\sigma_X$, we generate a random value from a Uniform(-.05, .05) distribution and add this value to our current value of $\\sigma_X$ to get $\\sigma_X^*$. We then accept our new value of $\\sigma_X$ with probability:\n",
    "\n",
    "$$p = min(1, \\dfrac{P(X|Z, \\sigma_X^*, \\sigma_A}{P(X|Z, \\sigma_X, \\sigma_A})$$\n",
    "\n",
    "To update $\\sigma_A$, we follow the same proceedure as with $\\sigma_X$, replacing $\\sigma_X$ with $\\sigma_A$."
   ]
  },
  {
   "cell_type": "markdown",
   "metadata": {},
   "source": [
    "### 4. A Demonstration with Simulated Data\n",
    "\n",
    "#### 4.1 Latent Features \n",
    "\n",
    "For a demonstration of the algorithim, we used a synthetic data proposed by Yildrim (Yildrim, 2012). Four base images were created consisting of ${6 x 6}$ pixels. Each base image can be represented by a vector of length $36 \\big( 6* 6 \\big)$. Theses base images represent the latent features and all the latent features by represented by a $K x D$ weight matrix $W$ where $K=4$ and $D=36$\n",
    "\n",
    "The four base (latent) images are shown below\n"
   ]
  },
  {
   "cell_type": "code",
   "execution_count": 4,
   "metadata": {
    "collapsed": false
   },
   "outputs": [
    {
     "data": {
      "image/png": "[encoded data removed]",
      "text/plain": [
       "<matplotlib.figure.Figure at 0x10c500be0>"
      ]
     },
     "metadata": {},
     "output_type": "display_data"
    }
   ],
   "source": [
    "#Data Simulation\n",
    "\n",
    "#Latent Features\n",
    "W = np.array([[0, 1, 0, 0, 0, 0, 1, 1, 1, 0, 0, 0, 0, 1, 0, 0, 0, 0, 0, 0, 0, 0, 0, 0, 0, 0, 0, 0, 0, 0, 0, 0, 0, 0, 0, 0],\n",
    "              [0, 0, 0, 1, 1, 1, 0, 0, 0, 1, 0, 1, 0, 0, 0, 1, 1, 1, 0, 0, 0, 0, 0, 0, 0, 0, 0, 0, 0, 0, 0, 0, 0, 0, 0, 0],\n",
    "              [0, 0, 0, 0, 0, 0, 0, 0, 0, 0, 0, 0, 0, 0, 0, 0, 0, 0, 1, 0, 0, 0, 0, 0, 1, 1, 0, 0, 0, 0, 1, 1, 1, 0, 0, 0],\n",
    "              [0, 0, 0, 0, 0, 0, 0, 0, 0, 0, 0, 0, 0, 0, 0, 0, 0, 0, 0, 0, 0, 1, 1, 1, 0, 0, 0, 0, 1, 0, 0, 0, 0, 0, 1, 0]])\n",
    "\n",
    "##Latent Features\n",
    "fig = plt.figure()\n",
    "a=fig.add_subplot(1,4,1)\n",
    "plt.imshow(np.matrix(W[0]).reshape(6,6),cmap=plt.get_cmap('gray'),  interpolation='nearest',origin='lower')\n",
    "a=fig.add_subplot(1,4,2)\n",
    "plt.imshow(np.matrix(W[1]).reshape(6,6),cmap=plt.get_cmap('gray'),  interpolation='nearest',origin='lower')\n",
    "a=fig.add_subplot(1,4,3)\n",
    "plt.imshow(np.matrix(W[2]).reshape(6,6),cmap=plt.get_cmap('gray'),  interpolation='nearest',origin='lower')\n",
    "a=fig.add_subplot(1,4,4)\n",
    "plt.imshow(np.matrix(W[3]).reshape(6,6),cmap=plt.get_cmap('gray'),  interpolation='nearest',origin='lower')\n",
    "plt.show()"
   ]
  },
  {
   "cell_type": "markdown",
   "metadata": {},
   "source": [
    "#### 4.2 Simulated Images\n",
    "\n",
    "We then created 100 synthetic images, where each image $x_i$ is superposition of zero or more base images (latent feature) with added white noise. $X$ is a $100 x D$ matrix\n",
    "\n",
    "$$x_i \\sim N(z_i W, \\sigma_x^2 I) $$\n",
    "\n",
    "Here, $z_i$ represents a row of a binary feature matrix $Z$ of dimension $100 x K$. A values in $z_i$ is 1 or 0 with a probability of 0.5. A value of 1 in $z_i$ corresponds to image $x_i$ containing the correspoing base image. $\\sigma_x^2$ which controls the white noise is set to 0.5\n",
    "\n",
    "Below is an example of one such simulated image"
   ]
  },
  {
   "cell_type": "code",
   "execution_count": 5,
   "metadata": {
    "collapsed": true
   },
   "outputs": [],
   "source": [
    "#set seed\n",
    "np.random.seed(1234)\n",
    "\n",
    "#Each image in our simulated data set is the superposition of four base images#\n",
    "# Number of images/ data points\n",
    "num_objects=100\n",
    "\n",
    "#Dimension of image (6x6)\n",
    "object_dim  = 6*6\n",
    "\n",
    "#Covariance matrix for images/ white noise\n",
    "sigma_x_orig = 0.5\n",
    "I = sigma_x_orig * np.identity(object_dim)\n",
    "\n",
    "#z_i - binary feature matrix (1 x 4) - each entry set to 1 with probability 0.5 and 0 otherwise#\n",
    "#x is data variable - each row correspondes to a superimposed built from a random combination of latent features#\n",
    "#with white noise added - x is built with multivariate gaussian#\n",
    "image_data = np.zeros((100,36))\n",
    "z_org = np.zeros((100,4))\n",
    "\n",
    "for i in range(0,num_objects):\n",
    "    z_org[i,:] = np.array([bernoulli.rvs(p=0.5, size=4)])\n",
    "    image_data[i,:] = np.dot(z_org[i,:],W) + np.random.normal(0,1, (1,object_dim)).dot(I) "
   ]
  },
  {
   "cell_type": "code",
   "execution_count": 6,
   "metadata": {
    "collapsed": false
   },
   "outputs": [
    {
     "data": {
      "text/plain": [
       "<matplotlib.image.AxesImage at 0x10c866048>"
      ]
     },
     "execution_count": 6,
     "metadata": {},
     "output_type": "execute_result"
    },
    {
     "data": {
      "image/png": "[encoded data removed]",
      "text/plain": [
       "<matplotlib.figure.Figure at 0x10be32390>"
      ]
     },
     "metadata": {},
     "output_type": "display_data"
    }
   ],
   "source": [
    "#Simulated Data\n",
    "fig = plt.figure()\n",
    "a=fig.add_subplot(1,3,1)\n",
    "plt.imshow(np.dot(z_org[1,1],W)[1,:].reshape(6,6),cmap=plt.get_cmap('gray'),  interpolation='nearest',origin='lower')\n",
    "a=fig.add_subplot(1,3,2)\n",
    "plt.imshow(np.dot(z_org[1,3],W)[3,:].reshape(6,6),cmap=plt.get_cmap('gray'),  interpolation='nearest',origin='lower')\n",
    "a=fig.add_subplot(1,3,3)\n",
    "plt.imshow(np.matrix(image_data[1,:]).reshape(6,6),cmap=plt.get_cmap('gray'),  interpolation='nearest',origin='lower')"
   ]
  },
  {
   "cell_type": "markdown",
   "metadata": {},
   "source": [
    "$x_1$ in our simulated data set is a superimposition of base images(latent features) 2 & 4, with added white noise"
   ]
  },
  {
   "cell_type": "markdown",
   "metadata": {},
   "source": [
    "### 5. Profiling & Optimization\n"
   ]
  },
  {
   "cell_type": "markdown",
   "metadata": {},
   "source": [
    "### 5.1 Original MCMC sampler\n",
    "\n",
    "We wrote down the MCMC sampler as follows\n"
   ]
  },
  {
   "cell_type": "code",
   "execution_count": 7,
   "metadata": {
    "collapsed": true
   },
   "outputs": [],
   "source": [
    "'''Helper Functions'''\n",
    "\n",
    "# This function return the log likelihood\n",
    "def likelihood(X, Z, M, sigma_A, sigma_X, K_plus, num_objects, object_dim):\n",
    "    part1 = (-1)*num_objects*(0.5*object_dim)*np.log(2*np.pi)\n",
    "    part2 = (-1)*(num_objects-K_plus)* object_dim *np.log(sigma_X) \n",
    "    part3 = (-1)*object_dim*K_plus*np.log(sigma_A) \n",
    "    part4 = (-1)*(0.5*object_dim)* np.log(np.linalg.det((np.dot(Z.T, Z) + (sigma_X**2/sigma_A**2)*np.eye(K_plus)))) \n",
    "    part5 = (-1/(2*sigma_X**2)) * np.trace(np.dot(np.dot(X.T,(np.identity(num_objects) - np.dot(np.dot(Z,M),Z.T))),X))\n",
    "    total = part1+part2+part3+part4+part5\n",
    "    return(total)\n",
    "\n",
    "#This function computes matrix M\n",
    "def Mcalc(Z, sigma_X, sigma_A, K_plus):\n",
    "    M = np.linalg.inv(np.dot(Z.T, Z) + (sigma_X**2/sigma_A**2) * np.eye(K_plus))\n",
    "    return(M)\n",
    "\n",
    "#This function samples new value of Z[i,k] using Gibbs Sampling\n",
    "def Met_zval(data, Z, sigma_X, sigma_A, K_plus, num_objects, object_dim, i, k):    \n",
    "    \n",
    "    P=np.zeros(2)\n",
    "\n",
    "    Z[i,k]=1\n",
    "    #Compute posterior density of new_sample\n",
    "    M = Mcalc(Z, sigma_X, sigma_A, K_plus)\n",
    "    P[0] = likelihood(data, Z, M, sigma_A, sigma_X, K_plus, num_objects, object_dim) + np.log(np.sum(Z[:, k]) - Z[i,k]) - np.log(num_objects)\n",
    "\n",
    "    #Set new_sample to 0\n",
    "    Z[i,k]=0\n",
    "    #Computer posterior density of new_sample\n",
    "    M = Mcalc(Z, sigma_X, sigma_A, K_plus)\n",
    "    P[1] = likelihood(data, Z, M, sigma_A, sigma_X, K_plus, num_objects, object_dim) + np.log(num_objects - np.sum(Z[:,k])) - np.log(num_objects)\n",
    "\n",
    "    P = np.exp(P - np.max(P))\n",
    "\n",
    "    if np.random.uniform(0,1) < (P[0]/(np.sum(P))):\n",
    "        new_sample = 1\n",
    "    else:\n",
    "        new_sample = 0\n",
    "    \n",
    "    return(new_sample)\n",
    "\n",
    "\n",
    "#This function samples new dishes upto a range specified by trunc_val\n",
    "def New_dishes(data, Z, sigma_X, sigma_A, K_plus, alpha, num_objects, object_dim, trunc_val,i):\n",
    "    trunc = np.zeros(trunc_val)\n",
    "    alpha_N = alpha/num_objects\n",
    "\n",
    "    for k_i in range(0,trunc_val):\n",
    "        Z_temp = Z\n",
    "        if k_i>0:\n",
    "            newcol = np.zeros((num_objects, k_i))\n",
    "            newcol[i,:] = 1 \n",
    "            Z_temp = np.column_stack((Z_temp, newcol))\n",
    "        M = Mcalc(Z_temp, sigma_X, sigma_A, K_plus+k_i)\n",
    "        trunc[k_i] = k_i * np.log(alpha_N) - alpha_N - np.log(np.math.factorial(k_i)) + likelihood(data, Z_temp, M, sigma_A, sigma_X, K_plus+k_i, num_objects, object_dim)\n",
    "\n",
    "    trunc = np.exp(trunc - np.max(trunc))\n",
    "    trunc = trunc/np.sum(trunc)\n",
    "\n",
    "    p = np.random.uniform(0,1)\n",
    "    t = 0\n",
    "    new_dishes = 0\n",
    "\n",
    "    for k_i in range(0,trunc_val):\n",
    "        t = t + trunc[k_i]\n",
    "        if p < t:\n",
    "            new_dishes = k_i\n",
    "            break\n",
    "            \n",
    "    return(new_dishes)\n",
    "\n",
    "#The function updates both sigma_X and sigma_A using random-walk Metropolis-Hastings.\n",
    "def Met_sigma(data, Z, sigma_X, sigma_A, K_plus, num_objects, object_dim):\n",
    "    \n",
    "    M = Mcalc(Z, sigma_X, sigma_A, K_plus)  \n",
    "    lik_curr = likelihood(data, Z, M, sigma_A, sigma_X, K_plus, num_objects, object_dim)\n",
    "\n",
    "    if np.random.uniform(0,1) < 0.5:\n",
    "        sigma_X_new = sigma_X - np.random.uniform(0,1)/20\n",
    "    else:\n",
    "        sigma_X_new = sigma_X + np.random.uniform(0,1)/20\n",
    "\n",
    "    M = Mcalc(Z, sigma_X_new, sigma_A, K_plus)\n",
    "    lik_new_X = likelihood(data, Z, M, sigma_A, sigma_X_new, K_plus, num_objects, object_dim)\n",
    "\n",
    "    acc_X = np.exp(min(0, lik_new_X - lik_curr))\n",
    "\n",
    "    if np.random.uniform(0,1) < 0.5:\n",
    "        sigma_A_new = sigma_A - np.random.uniform(0,1)/20\n",
    "    else:\n",
    "        sigma_A_new = sigma_A + np.random.uniform(0,1)/20\n",
    "\n",
    "    M = Mcalc(Z, sigma_X, sigma_A_new, K_plus)\n",
    "    lik_new_A = likelihood(data, Z, M, sigma_A_new, sigma_X, K_plus, num_objects, object_dim)\n",
    "\n",
    "    acc_A = np.exp(min(0, lik_new_A - lik_curr))\n",
    "    \n",
    "    sigma_X_val=0\n",
    "    sigma_A_val=0\n",
    "\n",
    "    if np.random.uniform(0,1) < acc_X:\n",
    "        sigma_X_val = sigma_X_new\n",
    "    else:\n",
    "        sigma_X_val = sigma_X\n",
    "    \n",
    "    if np.random.uniform(0,1) < acc_A:\n",
    "        sigma_A_val = sigma_A_new\n",
    "    else:\n",
    "        sigma_A_val = sigma_A\n",
    "        \n",
    "    return list([sigma_X_val, sigma_A_val])"
   ]
  },
  {
   "cell_type": "code",
   "execution_count": 8,
   "metadata": {
    "collapsed": true
   },
   "outputs": [],
   "source": [
    "'''The MCMC Sampler'''\n",
    "\n",
    "def Sampler(data, num_objects, object_dim, E=1000,  K_inf = 20, sigma_X = 1, sigma_A = 1, alpha = 1, trunc_val=5):\n",
    "    #Set storage arrays for sampled parameters\n",
    "    chain_Z = np.zeros([E, num_objects, K_inf])\n",
    "    chain_K = np.zeros([E, 1])\n",
    "    chain_sigma_X = np.zeros([E, 1])\n",
    "    chain_sigma_A = np.zeros([E, 1])\n",
    "    chain_alpha = np.zeros([E, 1])\n",
    "\n",
    "    #Initialize parameter values\n",
    "    num_object= np.shape(data)[0]\n",
    "    object_dim = np.shape(data)[1]\n",
    "    K_plus = 0\n",
    "    while K_plus == 0:\n",
    "        [Z, K_plus] = sampleIBP(alpha, num_objects)\n",
    "\n",
    "    #Compute Harmonic Number\n",
    "    HN = 0\n",
    "    for i in range(0, num_objects):\n",
    "        HN = HN + 1.0/(i+1)\n",
    "\n",
    "    for e in range(0, E):\n",
    "        #Store sampled values\n",
    "        chain_Z[e, :, 0:K_plus] = Z[:, 0:K_plus]\n",
    "        chain_K[e] = K_plus\n",
    "        chain_sigma_X[e] = sigma_X\n",
    "        chain_sigma_A[e] = sigma_A\n",
    "        chain_alpha[e] = alpha\n",
    "\n",
    "        if (e%100==0):\n",
    "            print(e)\n",
    "        #print(\"At iteration\", e, \": K_plus is\", K_plus, \", alpha is\", alpha) \n",
    "\n",
    "        #Generate a new value for Z[i,k] and accept by Metropolis\n",
    "        for i in range(0, num_objects):\n",
    "            #First we remove singular features if any\n",
    "            for k in range(0, K_plus):\n",
    "                if (k>=K_plus):\n",
    "                    break\n",
    "                if(Z[i, k] > 0):\n",
    "                    if (np.sum(Z[:, k]) - Z[i, k]) <= 0: \n",
    "                        Z[i, k] = 0\n",
    "                        Z[:, k:(K_plus - 1)] = Z[:, (k+1):K_plus]\n",
    "                        K_plus = K_plus - 1\n",
    "                        Z = Z[:, 0:K_plus]\n",
    "                        continue\n",
    "                #Sample new values fo z_ik\n",
    "                Z[i,k] = Met_zval(data, Z, sigma_X, sigma_A, K_plus, num_objects, object_dim, i, k)\n",
    "\n",
    "            #Sample new dishes \n",
    "            new_dishes = New_dishes(data, Z, sigma_X, sigma_A, K_plus, alpha, num_objects, object_dim, trunc_val,i)\n",
    "\n",
    "            if(new_dishes > 0):\n",
    "                newcol = np.zeros((num_objects, new_dishes))\n",
    "                newcol[i,:] = 1\n",
    "                Z = np.column_stack((Z, newcol))\n",
    "            K_plus = K_plus + new_dishes\n",
    "\n",
    "        #Sample sigma_X and sigma_A through Metropolis\n",
    "        [sigma_X, sigma_A] = Met_sigma(data, Z, sigma_X, sigma_A, K_plus, num_objects, object_dim)\n",
    "        \n",
    "        #Sample alpha via Gibbs\n",
    "        alpha = np.random.gamma(1 + K_plus, 1/(1+HN))\n",
    "    \n",
    "    print(\"Complete\")\n",
    "    return list([chain_Z, chain_K, chain_sigma_X, chain_sigma_A, chain_alpha])"
   ]
  },
  {
   "cell_type": "markdown",
   "metadata": {},
   "source": [
    "### Profiling Our Sampler\n",
    "### 5.2 Profiling Our Sampler\n",
    "In order to test the efficiency our code, we profile our Sampler function to find any potential bottlenecks in our code."
   ]
  },
  {
   "cell_type": "code",
   "execution_count": 9,
   "metadata": {
    "collapsed": false
   },
   "outputs": [
    {
     "name": "stdout",
     "output_type": "stream",
     "text": [
      "0\n",
      "Complete\n",
      "Fri Apr 29 23:17:40 2016    profiling_unoptimized\n",
      "\n",
      "         9055699 function calls in 28.665 seconds\n",
      "\n",
      "   Ordered by: cumulative time\n",
      "   List reduced from 120 to 10 due to restriction <10>\n",
      "\n",
      "   ncalls  tottime  percall  cumtime  percall filename:lineno(function)\n",
      "        1    0.000    0.000   28.665   28.665 {built-in method builtins.exec}\n",
      "        1    0.000    0.000   28.665   28.665 <string>:1(<module>)\n",
      "        1    0.162    0.162   28.664   28.664 <ipython-input-8-47ff767342a9>:3(Sampler)\n",
      "   124998    3.641    0.000   19.834    0.000 <ipython-input-7-56886bb9f8ed>:4(likelihood)\n",
      "    37349    0.904    0.000   16.774    0.000 <ipython-input-7-56886bb9f8ed>:19(Met_zval)\n",
      "    10000    0.753    0.000   11.550    0.001 <ipython-input-7-56886bb9f8ed>:45(New_dishes)\n",
      "   749988   10.509    0.000   10.509    0.000 {built-in method numpy.core.multiarray.dot}\n",
      "   124998    0.800    0.000    5.399    0.000 <ipython-input-7-56886bb9f8ed>:14(Mcalc)\n",
      "   124998    1.529    0.000    3.278    0.000 linalg.py:458(inv)\n",
      "   124998    1.149    0.000    2.644    0.000 linalg.py:1723(det)\n",
      "\n",
      "\n"
     ]
    }
   ],
   "source": [
    "# Profiling our code for 100 iterations of our Sampler Function\n",
    "import cProfile\n",
    "import re\n",
    "np.random.seed(1234)\n",
    "cProfile.run('Sampler(image_data, num_objects, object_dim, E=100,  K_inf = 20, sigma_X = 1, sigma_A = 1, alpha = 1, trunc_val=5)', \"profiling_unoptimized\")\n",
    "\n",
    "# Displaying results of our profiling\n",
    "import pstats\n",
    "p = pstats.Stats('profiling_unoptimized')\n",
    "p.strip_dirs().sort_stats(\"cumulative\").print_stats(10)\n",
    "pass"
   ]
  },
  {
   "cell_type": "markdown",
   "metadata": {},
   "source": [
    "We can see from our profiling output above that the biggest bottleneck within our code is our likelihood function. We noticed that we call the Mcalc function along with likelihood function in tandem several times throughout our Sampler function. To reduce the number of calls and to speed up our Sampler function, we decided to move the calculation of the M matrix into our likelihood function. \n",
    "\n",
    "Another optimization technique we considered was using a technique decribed by Griffiths and Ghahramani (Griffiths and Ghahramani, 2005) that calculated matrix M using only rank 1 updates to invert the matrix. However they mentioned that the procedure can lead to the accumulation of numerical errors and a full rank update would be required ocassionally. We decided not to implement this technique as our sampler was not unbearably slow, and the method described would unecessarily complicate the sampler.\n"
   ]
  },
  {
   "cell_type": "markdown",
   "metadata": {},
   "source": [
    "### 5.3 Optimizing the likelihood function\n",
    "\n",
    "We optimzed the liklelihood function by calculating the M matrix within our likelihood function"
   ]
  },
  {
   "cell_type": "code",
   "execution_count": 10,
   "metadata": {
    "collapsed": true
   },
   "outputs": [],
   "source": [
    "'''Optimized Likelihood & Helper Functions'''\n",
    "\n",
    "# This function return the log likelihood\n",
    "def likelihood_opt(X, Z, sigma_A, sigma_X, K_plus, num_objects, object_dim):\n",
    "    #Calculate M\n",
    "    M = np.dot(Z.T, Z) + (sigma_X**2/sigma_A**2)*np.eye(K_plus)\n",
    "    \n",
    "    part1 = (-1)*num_objects*(0.5*object_dim)*np.log(2*np.pi)\n",
    "    part2 = (-1)*(num_objects-K_plus)* object_dim *np.log(sigma_X) \n",
    "    part3 = (-1)*object_dim*K_plus*np.log(sigma_A) \n",
    "    part4 = (-1)*(0.5*object_dim)* np.log(np.linalg.det(M)) \n",
    "    part5 = (-1/(2*sigma_X**2)) * np.trace(np.dot(np.dot(X.T,(np.identity(num_objects) - np.dot(np.dot(Z,np.linalg.inv(M)),Z.T))),X))\n",
    "    total = part1+part2+part3+part4+part5\n",
    "    return(total)\n",
    "\n",
    "\n",
    "\n",
    "#This function samples new value of Z[i,k]\n",
    "def Met_zval_opt(data, Z, sigma_X, sigma_A, K_plus, num_objects, object_dim, i, k):    \n",
    "    \n",
    "    P=np.zeros(2)\n",
    "\n",
    "    Z[i,k]=1\n",
    "    #Compute posterior density of new_sample\n",
    "    P[0] = likelihood_opt(data, Z, sigma_A, sigma_X, K_plus, num_objects, object_dim) + np.log(np.sum(Z[:, k]) - Z[i,k]) - np.log(num_objects)\n",
    "\n",
    "    #Set new_sample to 0\n",
    "    Z[i,k]=0\n",
    "    #Computer posterior density of new_sample\n",
    "    P[1] = likelihood_opt(data, Z, sigma_A, sigma_X, K_plus, num_objects, object_dim) + np.log(num_objects - np.sum(Z[:,k])) - np.log(num_objects)\n",
    "\n",
    "    P = np.exp(P - np.max(P))\n",
    "\n",
    "    if np.random.uniform(0,1) < (P[0]/(np.sum(P))):\n",
    "        new_sample = 1\n",
    "    else:\n",
    "        new_sample = 0\n",
    "    \n",
    "    return(new_sample)\n",
    "\n",
    "#This function samples new dishes upto a range specified by trunc_val\n",
    "def New_dishes_opt(data, Z, sigma_X, sigma_A, K_plus, alpha, num_objects, object_dim, trunc_val,i):\n",
    "    trunc = np.zeros(trunc_val)\n",
    "    alpha_N = alpha/num_objects\n",
    "\n",
    "    for k_i in range(0,trunc_val):\n",
    "        Z_temp = Z\n",
    "        if k_i>0:\n",
    "            newcol = np.zeros((num_objects, k_i))\n",
    "            newcol[i,:] = 1 \n",
    "            Z_temp = np.column_stack((Z_temp, newcol))\n",
    "        trunc[k_i] = k_i * np.log(alpha_N) - alpha_N - np.log(np.math.factorial(k_i)) + likelihood_opt(data, Z_temp, sigma_A, sigma_X, K_plus+k_i, num_objects, object_dim)\n",
    "\n",
    "    trunc = np.exp(trunc - np.max(trunc))\n",
    "    trunc = trunc/np.sum(trunc)\n",
    "\n",
    "    p = np.random.uniform(0,1)\n",
    "    t = 0\n",
    "    new_dishes = 0\n",
    "\n",
    "    for k_i in range(0,trunc_val):\n",
    "        t = t + trunc[k_i]\n",
    "        if p < t:\n",
    "            new_dishes = k_i\n",
    "            break\n",
    "            \n",
    "    return(new_dishes)\n",
    "\n",
    "#The function updates both sigma_X and sigma_A using random-walk Metropolis-Hastings.\n",
    "def Met_sigma_opt(data, Z, sigma_X, sigma_A, K_plus, num_objects, object_dim):\n",
    "     \n",
    "    lik_curr = likelihood_opt(data, Z, sigma_A, sigma_X, K_plus, num_objects, object_dim)\n",
    "\n",
    "    if np.random.uniform(0,1) < 0.5:\n",
    "        sigma_X_new = sigma_X - np.random.uniform(0,1)/20\n",
    "    else:\n",
    "        sigma_X_new = sigma_X + np.random.uniform(0,1)/20\n",
    "\n",
    "    lik_new_X = likelihood_opt(data, Z, sigma_A, sigma_X_new, K_plus, num_objects, object_dim)\n",
    "\n",
    "    acc_X = np.exp(min(0, lik_new_X - lik_curr))\n",
    "\n",
    "    if np.random.uniform(0,1) < 0.5:\n",
    "        sigma_A_new = sigma_A - np.random.uniform(0,1)/20\n",
    "    else:\n",
    "        sigma_A_new = sigma_A + np.random.uniform(0,1)/20\n",
    "\n",
    "    lik_new_A = likelihood_opt(data, Z, sigma_A_new, sigma_X, K_plus, num_objects, object_dim)\n",
    "\n",
    "    acc_A = np.exp(min(0, lik_new_A - lik_curr))\n",
    "    \n",
    "    sigma_X_val=0\n",
    "    sigma_A_val=0\n",
    "\n",
    "    if np.random.uniform(0,1) < acc_X:\n",
    "        sigma_X_val = sigma_X_new\n",
    "    else:\n",
    "        sigma_X_val = sigma_X\n",
    "    \n",
    "    if np.random.uniform(0,1) < acc_A:\n",
    "        sigma_A_val = sigma_A_new\n",
    "    else:\n",
    "        sigma_A_val = sigma_A\n",
    "        \n",
    "    return list([sigma_X_val, sigma_A_val])"
   ]
  },
  {
   "cell_type": "markdown",
   "metadata": {},
   "source": [
    "#### 5.3.1 Performance of Optimized  Likelihood Function\n",
    "\n",
    "We now compare our optimized likelihood function likelihood_opt to our unoptimized version to see if we get any significant speed up. "
   ]
  },
  {
   "cell_type": "code",
   "execution_count": 11,
   "metadata": {
    "collapsed": false
   },
   "outputs": [
    {
     "data": {
      "text/html": [
       "<div>\n",
       "<table border=\"1\" class=\"dataframe\">\n",
       "  <thead>\n",
       "    <tr style=\"text-align: right;\">\n",
       "      <th></th>\n",
       "      <th>Time</th>\n",
       "    </tr>\n",
       "  </thead>\n",
       "  <tbody>\n",
       "    <tr>\n",
       "      <th>Original Likelihood</th>\n",
       "      <td>0.000196</td>\n",
       "    </tr>\n",
       "    <tr>\n",
       "      <th>Optimized Likelihood</th>\n",
       "      <td>0.000173</td>\n",
       "    </tr>\n",
       "  </tbody>\n",
       "</table>\n",
       "</div>"
      ],
      "text/plain": [
       "                          Time\n",
       "Original Likelihood   0.000196\n",
       "Optimized Likelihood  0.000173"
      ]
     },
     "execution_count": 11,
     "metadata": {},
     "output_type": "execute_result"
    }
   ],
   "source": [
    "import pandas as pd\n",
    "import time\n",
    "\n",
    "np.random.seed(1234)\n",
    "\n",
    "# Setting values to use in likelihood function comparisons\n",
    "num_objects = image_data.shape[0]\n",
    "object_dim = image_data.shape[1]\n",
    "\n",
    "sigma_X=1\n",
    "sigma_A=1\n",
    "alpha=1\n",
    "\n",
    "Z, K_plus = sampleIBP(alpha,num_objects)\n",
    "\n",
    "# Time the original likelihood function\n",
    "loops = 1000\n",
    "time_likelihood=np.zeros(loops)\n",
    "for l in range(loops):\n",
    "    t0=time.time()\n",
    "    M = Mcalc(Z, sigma_X, sigma_A, K_plus)\n",
    "    likelihood(image_data, Z, M, sigma_A, sigma_X, K_plus, num_objects, object_dim)\n",
    "    t1=time.time()\n",
    "    time_likelihood[l]=t1-t0\n",
    "mean_time_likelihood= round(np.mean(time_likelihood),7)\n",
    "\n",
    "\n",
    "# Time the optimized likelihood function\n",
    "time_likelihood_opt = np.zeros(loops)\n",
    "for l in range(loops):\n",
    "    t0 = time.time()\n",
    "    likelihood_opt(image_data, Z, sigma_A, sigma_X, K_plus, num_objects, object_dim)\n",
    "    t1 = time.time()\n",
    "    time_likelihood_opt[l] = t1-t0\n",
    "mean_time_likelihood_opt = round(np.mean(time_likelihood_opt), 7)\n",
    "\n",
    "time_array = np.array([mean_time_likelihood, mean_time_likelihood_opt])\n",
    "\n",
    "cols = [\"Time\"]\n",
    "index = [\"Original Likelihood\", \"Optimized Likelihood\"]\n",
    "\n",
    "time_df = pd.DataFrame(time_array, columns = cols, index = index)\n",
    "time_df"
   ]
  },
  {
   "cell_type": "markdown",
   "metadata": {},
   "source": [
    "We can see that our optimized likelihood function produces a noticeable speed up over our original likelihood function. Over thousands of iterations, this small speed up should accumulate to produce a much faster sampler.\n",
    "\n",
    "We refactored our sampler to use the new optimized likelihood and helper function"
   ]
  },
  {
   "cell_type": "code",
   "execution_count": 12,
   "metadata": {
    "collapsed": true
   },
   "outputs": [],
   "source": [
    "def sampler_opt(data, num_objects, object_dim, E=1000,  K_inf = 20, sigma_X = 1, sigma_A = 1, alpha = 1, trunc_val=5):\n",
    "    #Set storage arrays for sampled parameters\n",
    "    chain_Z = np.zeros([E, num_objects, K_inf])\n",
    "    chain_K = np.zeros([E, 1])\n",
    "    chain_sigma_X = np.zeros([E, 1])\n",
    "    chain_sigma_A = np.zeros([E, 1])\n",
    "    chain_alpha = np.zeros([E, 1])\n",
    "\n",
    "    #Initialize parameter values\n",
    "    num_object= np.shape(data)[0]\n",
    "    object_dim = np.shape(data)[1]\n",
    "    K_plus = 0\n",
    "    while K_plus == 0:\n",
    "        [Z, K_plus] = sampleIBP(alpha, num_objects)\n",
    "\n",
    "    #Compute Harmonic Number\n",
    "    HN = 0\n",
    "    for i in range(0, num_objects):\n",
    "        HN = HN + 1.0/(i+1)\n",
    "\n",
    "    for e in range(0, E):\n",
    "        #Store sampled values\n",
    "        chain_Z[e, :, 0:K_plus] = Z[:, 0:K_plus]\n",
    "        chain_K[e] = K_plus\n",
    "        chain_sigma_X[e] = sigma_X\n",
    "        chain_sigma_A[e] = sigma_A\n",
    "        chain_alpha[e] = alpha\n",
    "\n",
    "        if (e%100==0):\n",
    "            print(e)\n",
    "        #print(\"At iteration\", e, \": K_plus is\", K_plus, \", alpha is\", alpha) \n",
    "\n",
    "        #Generate a new value for Z[i,k] and accept by Metropolis\n",
    "        for i in range(0, num_objects):\n",
    "            #First we remove singular features if any\n",
    "            for k in range(0, K_plus):\n",
    "                if (k>=K_plus):\n",
    "                    break\n",
    "                if(Z[i, k] > 0):\n",
    "                    if (np.sum(Z[:, k]) - Z[i, k]) <= 0: \n",
    "                        Z[i, k] = 0\n",
    "                        Z[:, k:(K_plus - 1)] = Z[:, (k+1):K_plus]\n",
    "                        K_plus = K_plus - 1\n",
    "                        Z = Z[:, 0:K_plus]\n",
    "                        continue\n",
    "                #Compute conditional distribution for current cell\n",
    "                Z[i,k] = Met_zval_opt(data, Z, sigma_X, sigma_A, K_plus, num_objects, object_dim, i, k)\n",
    "\n",
    "\n",
    "            #Sample new dishes by Metropolis\n",
    "            new_dishes = New_dishes_opt(data, Z, sigma_X, sigma_A, K_plus, alpha, num_objects, object_dim, trunc_val,i)\n",
    "\n",
    "            if(new_dishes > 0):\n",
    "                newcol = np.zeros((num_objects, new_dishes))\n",
    "                newcol[i,:] = 1\n",
    "                Z = np.column_stack((Z, newcol))\n",
    "            K_plus = K_plus + new_dishes\n",
    "\n",
    "        #Sample sigma_X and sigma_A through Metropolis\n",
    "        [sigma_X, sigma_A] = Met_sigma_opt(data, Z, sigma_X, sigma_A, K_plus, num_objects, object_dim)\n",
    "        #Sample alpha via Gibbs\n",
    "        alpha = np.random.gamma(1 + K_plus, 1/(1+HN))\n",
    "    \n",
    "    print(\"Complete\")\n",
    "    return list([chain_Z, chain_K, chain_sigma_X, chain_sigma_A, chain_alpha])"
   ]
  },
  {
   "cell_type": "markdown",
   "metadata": {},
   "source": [
    "### 5.4 Using cython to speed up the code\n",
    "\n",
    "We decided to use cython to speed up our code. "
   ]
  },
  {
   "cell_type": "code",
   "execution_count": 13,
   "metadata": {
    "collapsed": false
   },
   "outputs": [],
   "source": [
    "%load_ext cython"
   ]
  },
  {
   "cell_type": "code",
   "execution_count": 14,
   "metadata": {
    "collapsed": false
   },
   "outputs": [],
   "source": [
    "%%cython\n",
    "\n",
    "import numpy as np\n",
    "cimport numpy as np\n",
    "import cython\n",
    "from libc.math cimport log\n",
    "\n",
    "cdef double pi = 3.141592653589793\n",
    "\n",
    "cdef sampleIBP_c(double alpha, long num_objects):  \n",
    "    cdef long i, j\n",
    "    cdef long t\n",
    "    cdef long x\n",
    "    cdef long y\n",
    "    cdef long K_plus\n",
    "\n",
    "    # Initializing storage for results\n",
    "    result = np.zeros([num_objects, 1000])\n",
    "\n",
    "    # Draw from the prior for alpha\n",
    "    t = np.random.poisson(alpha)\n",
    "    # Filling in first row of result matrix\n",
    "    result[0, 0:t] = np.ones(t) #changed form np.ones([1, t])\n",
    "    # Initializing K+\n",
    "    K_plus = t\n",
    "    \n",
    "    for i in range(1, num_objects):\n",
    "        for j in range(0, K_plus):\n",
    "            p = np.array([log(np.sum(result[0:i,j])) - log(i+1), \n",
    "                          log(i+1 - np.sum(result[0:i, j])) - log(i+1)])\n",
    "            p = np.exp(p - max(p))\n",
    "\n",
    "            if(np.random.uniform() < p[0]/np.sum(p)):\n",
    "                result[i, j] = 1\n",
    "            else:\n",
    "                result[i, j] = 0\n",
    "        t = np.random.poisson(alpha/(i+1))\n",
    "        x = K_plus + 1\n",
    "        y = K_plus + t\n",
    "        result[i, (x-1):y] = np.ones(t) #changed form np.ones([1, t])\n",
    "        K_plus = K_plus+t\n",
    "    result = result[:, 0:K_plus]\n",
    "\n",
    "    return list([result, K_plus])\n",
    "\n",
    "cdef double likelihood_opt_c(double[:,:] X, double[:, :] Z, double sigma_A, double sigma_X, \n",
    "                     long K_plus, long num_objects, long object_dim):\n",
    "\n",
    "    #Calculate M\n",
    "    cdef double[:, :] M = np.dot(Z.T, Z) + (sigma_X**2/sigma_A**2)*np.eye(K_plus)\n",
    "    cdef double part1, part2, part3, part4, part5, total\n",
    "\n",
    "    part1 = (-1)*num_objects*(0.5*object_dim)*log(2*pi)\n",
    "    part2 = (-1)*(num_objects-K_plus)* object_dim *log(sigma_X) \n",
    "    part3 = (-1)*object_dim*K_plus*log(sigma_A) \n",
    "    part4 = (-1)*(0.5*object_dim)* log(np.linalg.det(M)) \n",
    "    part5 = (-1/(2*sigma_X**2)) * np.trace(np.dot(np.dot(X.T,(np.identity(num_objects) - np.dot(np.dot(Z,np.linalg.inv(M)),Z.T))),X))\n",
    "    total = part1+part2+part3+part4+part5\n",
    "\n",
    "    return(total)\n",
    "\n",
    "#This function samples new value of Z[i,k] and accepts by Metropolis\n",
    "cdef int Met_zval_c(double[:, :] data, double[:,:] Z, double sigma_X, double sigma_A, int K_plus, long num_objects, long object_dim, long i, long k):    \n",
    "    \n",
    "    cdef double[:]  P\n",
    "    cdef int new_sample\n",
    "    \n",
    "    P=np.zeros(2)\n",
    "\n",
    "    Z[i,k]=1\n",
    "    #Compute posterior density of new_sample\n",
    "    P[0] = likelihood_opt_c(data, Z, sigma_A, sigma_X, K_plus, num_objects, object_dim) + log(np.sum(Z[:, k]) - Z[i,k]) - log(num_objects)\n",
    "\n",
    "    #Set new_sample to 0\n",
    "    Z[i,k]=0\n",
    "    #Computer posterior density of new_sample\n",
    "    P[1] = likelihood_opt_c(data, Z, sigma_A, sigma_X, K_plus, num_objects, object_dim) + log(num_objects - np.sum(Z[:,k])) - log(num_objects)\n",
    "\n",
    "    P = np.exp(P - np.max(P))\n",
    "\n",
    "    if np.random.uniform(0,1) < (P[0]/(np.sum(P))):\n",
    "        new_sample = 1\n",
    "    else:\n",
    "        new_sample = 0\n",
    "    \n",
    "    return(new_sample)\n",
    "\n",
    "\n",
    "cdef int New_dishes_c(double[:,:] data, double[:,:] Z, double sigma_X, double  sigma_A, int K_plus, double alpha, long num_objects, long object_dim, long trunc_val, long i):\n",
    "    \n",
    "    trunc = np.zeros(trunc_val)\n",
    "    cdef double alpha_N = alpha/num_objects\n",
    "    cdef int k_i, new_dishes\n",
    "    cdef double[:,:] Z_temp, newcol\n",
    "    cdef double p, t\n",
    "    \n",
    "\n",
    "    for k_i in range(0,trunc_val):\n",
    "        Z_temp = Z\n",
    "        if k_i>0:\n",
    "            newcol = np.zeros((num_objects, k_i))\n",
    "            newcol[i,:] = 1 \n",
    "            Z_temp = np.column_stack((Z_temp, newcol))\n",
    "        trunc[k_i] = k_i * log(alpha_N) - alpha_N - log(np.math.factorial(k_i)) + likelihood_opt_c(data, Z_temp, sigma_A, sigma_X, K_plus+k_i, num_objects, object_dim)\n",
    "\n",
    "    trunc = np.exp(trunc - np.max(trunc))\n",
    "    trunc = trunc/np.sum(trunc)\n",
    "\n",
    "    p = np.random.uniform(0,1)\n",
    "    t = 0\n",
    "    new_dishes = 0\n",
    "\n",
    "    for k_i in range(0,trunc_val):\n",
    "        t = t + trunc[k_i]\n",
    "        if p < t:\n",
    "            new_dishes = k_i\n",
    "            break\n",
    "            \n",
    "    return(new_dishes)\n",
    "\n",
    "\n",
    "cdef Met_sigma_c(double[:,:] data, double[:,:] Z, double sigma_X, double sigma_A, int K_plus, long num_objects, long object_dim):\n",
    "    \n",
    "    cdef double sigma_X_new, sigma_A_new, lik_new_X, lik_new_A, acc_X, acc_A, sigma_X_val, sigma_A_val \n",
    "    \n",
    "    cdef double lik_curr = likelihood_opt_c(data, Z, sigma_A, sigma_X, K_plus, num_objects, object_dim)\n",
    "\n",
    "    if np.random.uniform(0,1) < 0.5:\n",
    "        sigma_X_new = sigma_X - np.random.uniform(0,1)/20\n",
    "    else:\n",
    "        sigma_X_new = sigma_X + np.random.uniform(0,1)/20\n",
    "\n",
    "    lik_new_X = likelihood_opt_c(data, Z, sigma_A, sigma_X_new, K_plus, num_objects, object_dim)\n",
    "\n",
    "    acc_X = np.exp(min(0, lik_new_X - lik_curr))\n",
    "\n",
    "    if np.random.uniform(0,1) < 0.5:\n",
    "        sigma_A_new = sigma_A - np.random.uniform(0,1)/20\n",
    "    else:\n",
    "        sigma_A_new = sigma_A + np.random.uniform(0,1)/20\n",
    "\n",
    "    lik_new_A = likelihood_opt_c(data, Z, sigma_A_new, sigma_X, K_plus, num_objects, object_dim)\n",
    "\n",
    "    acc_A = np.exp(min(0, lik_new_A - lik_curr))\n",
    "    \n",
    "    sigma_X_val=0\n",
    "    sigma_A_val=0\n",
    "\n",
    "    if np.random.uniform(0,1) < acc_X:\n",
    "        sigma_X_val = sigma_X_new\n",
    "    else:\n",
    "        sigma_X_val = sigma_X\n",
    "    \n",
    "    if np.random.uniform(0,1) < acc_A:\n",
    "        sigma_A_val = sigma_A_new\n",
    "    else:\n",
    "        sigma_A_val = sigma_A\n",
    "        \n",
    "    return list([sigma_X_val, sigma_A_val])\n",
    "\n",
    "\n",
    "\n",
    "def sampler_opt_c(double[:,:] data, long E=1000, long K_inf = 20, double sigma_X = 1, double sigma_A = 1, double alpha = 1, int trunc_val=5):\n",
    "    \n",
    "    cdef long num_objects= np.shape(data)[0]\n",
    "    cdef long object_dim = np.shape(data)[1]\n",
    "    \n",
    "    #Set storage arrays for sampled parameters\n",
    "    cdef double[:, :, :] chain_Z = np.zeros([E, num_objects, K_inf])\n",
    "    cdef double[:, :] chain_K = np.zeros([E, 1])\n",
    "    cdef double[:, :] chain_sigma_X = np.zeros([E, 1])\n",
    "    cdef double[:, :] chain_sigma_A = np.zeros([E, 1])\n",
    "    cdef double[:, :] chain_alpha = np.zeros([E, 1])\n",
    "    \n",
    "    cdef double HN\n",
    "    cdef long i, e, j1, j2, k, k_i, TEMP\n",
    "\n",
    "    #Initialize parameter values\n",
    "    \n",
    "    K_plus = 0\n",
    "    while K_plus == 0:\n",
    "        [Z, K_plus] = sampleIBP_c(alpha, num_objects)\n",
    "\n",
    "    #Compute Harmonic Number\n",
    "    HN = 0\n",
    "    for i in range(0, num_objects):\n",
    "        HN = HN + 1.0/(i+1)\n",
    "\n",
    "    for e in range(0, E):\n",
    "        #Store sampled values\n",
    "        for j1 in range(num_objects):\n",
    "            for j2 in range(K_plus):\n",
    "                chain_Z[e, j1, j2] = Z[j1, j2]\n",
    "        chain_K[e] = K_plus\n",
    "        chain_sigma_X[e] = sigma_X\n",
    "        chain_sigma_A[e] = sigma_A\n",
    "        chain_alpha[e] = alpha\n",
    "\n",
    "        #if (e%100==0):\n",
    "        #    print(e)\n",
    "        #print(\"At iteration\", e, \": K_plus is\", K_plus, \", alpha is\", alpha) \n",
    "\n",
    "        #Generate a new value for Z[i,k] and accept by Metropolis\n",
    "        for i in range(0, num_objects):\n",
    "            #First we remove singular features if any\n",
    "            for k in range(0, K_plus):\n",
    "                if (k>=K_plus):\n",
    "                    break\n",
    "                if(Z[i, k] > 0):\n",
    "                    if (np.sum(Z[:, k]) - Z[i, k]) <= 0: \n",
    "                        Z[i, k] = 0\n",
    "                        Z[:, k:(K_plus - 1)] = Z[:, (k+1):K_plus]\n",
    "                        K_plus = K_plus - 1\n",
    "                        Z = Z[:, 0:K_plus]\n",
    "                        continue\n",
    "                #Compute conditional distribution for current cell\n",
    "                TEMP = Met_zval_c(data, Z, sigma_X, sigma_A, K_plus, num_objects, object_dim, i, k)\n",
    "                Z[i,k] = TEMP\n",
    "\n",
    "\n",
    "            #Sample new dishes by Metropolis\n",
    "            new_dishes = New_dishes_c(data, Z, sigma_X, sigma_A, K_plus, alpha, num_objects, object_dim, trunc_val,i)\n",
    "\n",
    "            if(new_dishes > 0):\n",
    "                newcol = np.zeros((num_objects, new_dishes))\n",
    "                newcol[i,:] = 1\n",
    "                Z = np.column_stack((Z, newcol))\n",
    "            K_plus = K_plus + new_dishes\n",
    "\n",
    "        #Sample sigma_X and sigma_A through Metropolis\n",
    "        [sigma_X, sigma_A] = Met_sigma_c(data, Z, sigma_X, sigma_A, K_plus, num_objects, object_dim)\n",
    "        #Sample alpha via Gibbs\n",
    "        alpha = np.random.gamma(1 + K_plus, 1/(1+HN))\n",
    "    \n",
    "    print(\"Complete\")\n",
    "    return list([chain_Z, chain_K, chain_sigma_X, chain_sigma_A, chain_alpha])"
   ]
  },
  {
   "cell_type": "markdown",
   "metadata": {},
   "source": [
    "#### 5.4.1 Performance of Various Optimization Methods\n",
    "\n",
    "We made two successive attempts to optimized our code\n",
    "\n",
    "1. Optimizing the Likelihood function\n",
    "2. Using cython to speed up the sampler\n",
    "\n",
    "Lets compare these optimization attempts to the original sampler"
   ]
  },
  {
   "cell_type": "code",
   "execution_count": 23,
   "metadata": {
    "collapsed": false
   },
   "outputs": [
    {
     "name": "stdout",
     "output_type": "stream",
     "text": [
      "0\n",
      "Complete\n",
      "0\n",
      "Complete\n",
      "0\n",
      "Complete\n",
      "0\n",
      "Complete\n",
      "0\n",
      "Complete\n",
      "0\n",
      "Complete\n",
      "Complete\n",
      "Complete\n",
      "Complete\n"
     ]
    },
    {
     "data": {
      "text/html": [
       "<div>\n",
       "<table border=\"1\" class=\"dataframe\">\n",
       "  <thead>\n",
       "    <tr style=\"text-align: right;\">\n",
       "      <th></th>\n",
       "      <th>Time</th>\n",
       "    </tr>\n",
       "  </thead>\n",
       "  <tbody>\n",
       "    <tr>\n",
       "      <th>Original Sampler</th>\n",
       "      <td>30.297359</td>\n",
       "    </tr>\n",
       "    <tr>\n",
       "      <th>Optimized Sampler</th>\n",
       "      <td>27.217370</td>\n",
       "    </tr>\n",
       "    <tr>\n",
       "      <th>Cythonized Sampler</th>\n",
       "      <td>28.419765</td>\n",
       "    </tr>\n",
       "  </tbody>\n",
       "</table>\n",
       "</div>"
      ],
      "text/plain": [
       "                         Time\n",
       "Original Sampler    30.297359\n",
       "Optimized Sampler   27.217370\n",
       "Cythonized Sampler  28.419765"
      ]
     },
     "execution_count": 23,
     "metadata": {},
     "output_type": "execute_result"
    }
   ],
   "source": [
    "np.random.seed(1234)\n",
    "\n",
    "# Setting values to use in likelihood function comparisons\n",
    "num_objects = image_data.shape[0]\n",
    "object_dim = image_data.shape[1]\n",
    "\n",
    "alpha = 1\n",
    "\n",
    "Z, K_plus = sampleIBP(alpha,num_objects)\n",
    "\n",
    "# Time the original likelihood function\n",
    "loops = 3\n",
    "time_sampler=np.zeros(loops)\n",
    "for l in range(loops):\n",
    "    t0=time.time()\n",
    "    Sampler(image_data, num_objects, object_dim, E=100,  K_inf = 20, sigma_X = 1, sigma_A = 1, alpha = 1, trunc_val=5)\n",
    "    t1=time.time()\n",
    "    time_sampler[l]=t1-t0\n",
    "mean_time_sampler = round(np.mean(time_sampler),7)\n",
    "\n",
    "\n",
    "np.random.seed(1234)\n",
    "# Time the optimized likelihood function\n",
    "time_sampler_opt = np.zeros(loops)\n",
    "for l in range(loops):\n",
    "    t0 = time.time()\n",
    "    sampler_opt(image_data, num_objects, object_dim, E=100,  K_inf = 20, sigma_X = 1, sigma_A = 1, alpha = 1, trunc_val=5)\n",
    "    t1 = time.time()\n",
    "    time_sampler_opt[l] = t1-t0\n",
    "mean_time_sampler_opt = round(np.mean(time_sampler_opt), 7)\n",
    "\n",
    "np.random.seed(1234)\n",
    "# Time the optimized likelihood function\n",
    "time_sampler_opt_c = np.zeros(loops)\n",
    "for l in range(loops):\n",
    "    t0 = time.time()\n",
    "    sampler_opt_c(image_data, E=100, K_inf = 20, sigma_X = 1, sigma_A = 1, alpha = 1, trunc_val=5)\n",
    "    t1 = time.time()\n",
    "    time_sampler_opt_c[l] = t1-t0\n",
    "mean_time_sampler_opt_c = round(np.mean(time_sampler_opt_c), 7)\n",
    "\n",
    "time_array = np.array([mean_time_sampler, mean_time_sampler_opt, mean_time_sampler_opt_c])\n",
    "\n",
    "cols = [\"Time\"]\n",
    "index = [\"Original Sampler\", \"Optimized Sampler\", \"Cythonized Sampler\"]\n",
    "\n",
    "time_df = pd.DataFrame(time_array, columns = cols, index = index)\n",
    "time_df"
   ]
  },
  {
   "cell_type": "markdown",
   "metadata": {},
   "source": [
    "As we can see when run for 100 iterations, we get a significant speed up for our optimized likelihood sampler over our original sampler. \n",
    "\n",
    "#### Wait till we hear from Cliburn, if not include note on why cythonization may not be working\n",
    "We are not as fortunate with our Cythonized code, as this does not seem to introduce any improvement."
   ]
  },
  {
   "cell_type": "markdown",
   "metadata": {},
   "source": [
    "### 6. Results\n",
    "\n",
    "We run the sampler for 1000 iterations and plot the trace plot for $K, \\sigma_X, \\sigma_A and \\alpha$"
   ]
  },
  {
   "cell_type": "code",
   "execution_count": 16,
   "metadata": {
    "collapsed": false
   },
   "outputs": [
    {
     "name": "stdout",
     "output_type": "stream",
     "text": [
      "0\n",
      "100\n",
      "200\n",
      "300\n",
      "400\n",
      "500\n",
      "600\n",
      "700\n",
      "800\n",
      "900\n",
      "Complete\n"
     ]
    }
   ],
   "source": [
    "np.random.seed(1234)\n",
    "[chain_Z, chain_K, chain_sigma_X, chain_sigma_A, chain_alpha] = sampler_opt(image_data, num_objects, object_dim, E=1000,  K_inf = 20, sigma_X = 1, sigma_A = 1, alpha = 1, trunc_val=5)"
   ]
  },
  {
   "cell_type": "markdown",
   "metadata": {},
   "source": [
    "### 6.1 Traceplots\n",
    "\n",
    "We run the sampler for 1000 iterations and plot the trace plot for $K, \\sigma_X, \\sigma_A$ and $\\alpha$"
   ]
  },
  {
   "cell_type": "code",
   "execution_count": 17,
   "metadata": {
    "collapsed": false
   },
   "outputs": [
    {
     "data": {
      "image/png": "[encoded data removed]",
      "text/plain": [
       "<matplotlib.figure.Figure at 0x10ea030f0>"
      ]
     },
     "metadata": {},
     "output_type": "display_data"
    }
   ],
   "source": [
    "plt.rcdefaults()\n",
    "plt.style.use('ggplot')\n",
    "\n",
    "plt.figure(figsize=(4, 8))\n",
    "plt.subplot(411)\n",
    "plt.plot(np.arange(len(chain_K)), np.squeeze(chain_K, axis=(1,)))\n",
    "plt.xlabel('Iteration')\n",
    "plt.ylabel('K')\n",
    "\n",
    "plt.subplot(412)\n",
    "plt.plot(np.arange(len(chain_sigma_X)), np.squeeze(chain_sigma_X, axis=(1,)))\n",
    "plt.xlabel('Iteration')\n",
    "plt.ylabel('sigma X')\n",
    "\n",
    "plt.subplot(413)\n",
    "plt.plot(np.arange(len(chain_sigma_A)), np.squeeze(chain_sigma_A, axis=(1,)))\n",
    "plt.xlabel('Iteration')\n",
    "plt.ylabel('sigma A')\n",
    "\n",
    "plt.subplot(414)\n",
    "plt.plot(np.arange(len(chain_alpha)), np.squeeze(chain_alpha, axis=(1,)))\n",
    "plt.xlabel('Iteration')\n",
    "plt.ylabel('alpha')\n",
    "plt.show()"
   ]
  },
  {
   "cell_type": "markdown",
   "metadata": {},
   "source": [
    "From the trace plots, we see the the various parameters are converging well. $sigma_X$ converges to its true value 0.5."
   ]
  },
  {
   "cell_type": "markdown",
   "metadata": {},
   "source": [
    "### 6.2 Estimating Number of Latent Features\n",
    "\n",
    "Lets assess a histogram of the posterior for K, which is the number of estimated latent feature"
   ]
  },
  {
   "cell_type": "code",
   "execution_count": 18,
   "metadata": {
    "collapsed": false
   },
   "outputs": [
    {
     "data": {
      "image/png": "[encoded data removed]",
      "text/plain": [
       "<matplotlib.figure.Figure at 0x10ea0a518>"
      ]
     },
     "metadata": {},
     "output_type": "display_data"
    }
   ],
   "source": [
    "plt.figure(figsize=(4, 4))\n",
    "plt.hist(np.squeeze(chain_K, axis=(1,)))\n",
    "plt.xlim(0, max(np.squeeze(chain_K, axis=(1,))))\n",
    "plt.show()"
   ]
  },
  {
   "cell_type": "code",
   "execution_count": 19,
   "metadata": {
    "collapsed": false
   },
   "outputs": [
    {
     "data": {
      "image/png": "[encoded data removed]",
      "text/plain": [
       "<matplotlib.figure.Figure at 0x10eadabe0>"
      ]
     },
     "metadata": {},
     "output_type": "display_data"
    }
   ],
   "source": [
    "plt.figure(figsize=(4, 4))\n",
    "final_Z = chain_Z[len(chain_Z)-1,::]\n",
    "plt.hist(np.sum(final_Z, axis=1,dtype=np.int64))\n",
    "plt.show()"
   ]
  },
  {
   "cell_type": "markdown",
   "metadata": {},
   "source": [
    "\n",
    "### Fix above plots\n",
    "### Add some write-up about choosing the optimal value of K"
   ]
  },
  {
   "cell_type": "markdown",
   "metadata": {},
   "source": [
    "### 6.3 Extracting the Latent Features"
   ]
  },
  {
   "cell_type": "markdown",
   "metadata": {},
   "source": [
    "We can get the posterior expectation of W using the equation given by Griffiths and Ghahramani (Griffiths and Ghahramani, 2005)\n",
    "\n",
    "$$ E[W \\mid Z] = \\big( Z^{T} Z +\\frac{\\sigma_X}{\\sigma_A} I \\big)^{-1} Z^{T} X$$\n",
    "\n",
    "Where\n",
    "\n",
    "$Z$ - Last sampled matrix with the number of columns truncated to K=4\n",
    "\n",
    "$\\sigma_X$ - Posterior mean after burn-in\n",
    "\n",
    "$\\sigma_A$ - Posterior mean after burn-in"
   ]
  },
  {
   "cell_type": "code",
   "execution_count": 20,
   "metadata": {
    "collapsed": true
   },
   "outputs": [],
   "source": [
    "burnIn = int(np.round(len(chain_K)*.2))\n",
    "K_post_choice = 4\n",
    "final_Z = chain_Z[len(chain_Z)-1,:,0:K_post_choice]\n",
    "post_sigma_X_mean = np.mean(np.squeeze(chain_sigma_X, axis=(1,))[burnIn:])\n",
    "post_sigma_A_mean = np.mean(np.squeeze(chain_sigma_A, axis=(1,))[burnIn:])\n",
    "M_fin = np.linalg.inv(np.dot(final_Z.T, final_Z) + (post_sigma_X_mean**2/post_sigma_A_mean**2) * np.eye(K_post_choice))\n",
    "post_exp_W  = np.dot(M_fin, np.dot(final_Z.T, image_data))"
   ]
  },
  {
   "cell_type": "code",
   "execution_count": 21,
   "metadata": {
    "collapsed": false
   },
   "outputs": [
    {
     "data": {
      "image/png": "[encoded data removed]",
      "text/plain": [
       "<matplotlib.figure.Figure at 0x110661d30>"
      ]
     },
     "metadata": {},
     "output_type": "display_data"
    }
   ],
   "source": [
    "##Latent Features\n",
    "fig = plt.figure()\n",
    "a=fig.add_subplot(1,4,1)\n",
    "plt.imshow(post_exp_W[0,:].reshape(6,6),cmap=plt.get_cmap('gray'), interpolation='nearest',origin='lower')\n",
    "a=fig.add_subplot(1,4,2)\n",
    "plt.imshow(post_exp_W[1,:].reshape(6,6),cmap=plt.get_cmap('gray'),  interpolation='nearest',origin='lower')\n",
    "a=fig.add_subplot(1,4,3)\n",
    "plt.imshow(post_exp_W[2,:].reshape(6,6),cmap=plt.get_cmap('gray'),  interpolation='nearest',origin='lower')\n",
    "a=fig.add_subplot(1,4,4)\n",
    "plt.imshow(post_exp_W[3,:].reshape(6,6),cmap=plt.get_cmap('gray'),  interpolation='nearest',origin='lower')\n",
    "pass"
   ]
  },
  {
   "cell_type": "markdown",
   "metadata": {},
   "source": [
    "We see that we were able to extract the original base images (latent features) from the images. The original base images used to simulate the images are show again below."
   ]
  },
  {
   "cell_type": "code",
   "execution_count": 22,
   "metadata": {
    "collapsed": false
   },
   "outputs": [
    {
     "data": {
      "image/png": "[encoded data removed]",
      "text/plain": [
       "<matplotlib.figure.Figure at 0x110ca2f98>"
      ]
     },
     "metadata": {},
     "output_type": "display_data"
    }
   ],
   "source": [
    "fig = plt.figure()\n",
    "a=fig.add_subplot(1,4,1)\n",
    "plt.imshow(np.matrix(W[0]).reshape(6,6),cmap=plt.get_cmap('gray'),  interpolation='nearest',origin='lower')\n",
    "a=fig.add_subplot(1,4,2)\n",
    "plt.imshow(np.matrix(W[1]).reshape(6,6),cmap=plt.get_cmap('gray'),  interpolation='nearest',origin='lower')\n",
    "a=fig.add_subplot(1,4,3)\n",
    "plt.imshow(np.matrix(W[2]).reshape(6,6),cmap=plt.get_cmap('gray'),  interpolation='nearest',origin='lower')\n",
    "a=fig.add_subplot(1,4,4)\n",
    "plt.imshow(np.matrix(W[3]).reshape(6,6),cmap=plt.get_cmap('gray'),  interpolation='nearest',origin='lower')\n",
    "plt.show()"
   ]
  },
  {
   "cell_type": "markdown",
   "metadata": {},
   "source": [
    "### 7 Conclusion\n",
    "\n",
    "A wrap-up of what we did"
   ]
  },
  {
   "cell_type": "markdown",
   "metadata": {},
   "source": [
    "### 8 References\n",
    "\n",
    "\n",
    "[1] Thomas Griffiths and Zoubin Ghahramani. Infinite latent feature models and the Indian buffet process. 2005.\n",
    "\n",
    "[2] Thomas Griffiths and Zoubin Ghahramani. Infinite latent feature models and the Indian buffet process. technical report 2005-     001. 2005\n",
    "\n",
    "[3] Ilker Yildirim. http://www.mit.edu/ilkery/.\n",
    "\n",
    "[4] Ilker Yildirim. Bayesian statistics: Indian buffet process. 2012.\n",
    "\n",
    "[5] Dipesh Gautam. Indian Buffet Process and its application in the Infinite Latent Feature Model. 2015\n",
    "\n",
    "[6] Christine Chai. Implementation of the Indian Buffet Process. 2015\n",
    "\n",
    "[7] Radhika Anand. Infinite Latent Feature Models and the Indian Buffet Process. 2015"
   ]
  }
 ],
 "metadata": {
  "kernelspec": {
   "display_name": "Python 3",
   "language": "python",
   "name": "python3"
  },
  "language_info": {
   "codemirror_mode": {
    "name": "ipython",
    "version": 3
   },
   "file_extension": ".py",
   "mimetype": "text/x-python",
   "name": "python",
   "nbconvert_exporter": "python",
   "pygments_lexer": "ipython3",
   "version": "3.5.1"
  }
 },
 "nbformat": 4,
 "nbformat_minor": 0
}
